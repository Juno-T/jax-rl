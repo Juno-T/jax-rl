{
 "cells": [
  {
   "cell_type": "markdown",
   "metadata": {},
   "source": [
    "# DM Haiku"
   ]
  },
  {
   "cell_type": "markdown",
   "metadata": {},
   "source": [
    "## Basics\n",
    "https://dm-haiku.readthedocs.io/en/latest/notebooks/basics.html"
   ]
  },
  {
   "cell_type": "markdown",
   "metadata": {},
   "source": [
    "#### intro"
   ]
  },
  {
   "cell_type": "code",
   "execution_count": 1,
   "metadata": {},
   "outputs": [],
   "source": [
    "import haiku as hk\n",
    "import jax\n",
    "import jax.numpy as jnp\n",
    "import numpy as np"
   ]
  },
  {
   "cell_type": "code",
   "execution_count": 2,
   "metadata": {},
   "outputs": [],
   "source": [
    "class MyLinear1(hk.Module):\n",
    "\n",
    "  def __init__(self, output_size, name=None):\n",
    "    super().__init__(name=name)\n",
    "    self.output_size = output_size\n",
    "\n",
    "  def __call__(self, x):\n",
    "    j, k = x.shape[-1], self.output_size\n",
    "    w_init = hk.initializers.TruncatedNormal(1. / np.sqrt(j))\n",
    "    w = hk.get_parameter(\"w\", shape=[j, k], dtype=x.dtype, init=w_init)\n",
    "    b = hk.get_parameter(\"b\", shape=[k], dtype=x.dtype, init=jnp.ones)\n",
    "    return jnp.dot(x, w) + b"
   ]
  },
  {
   "cell_type": "code",
   "execution_count": 3,
   "metadata": {},
   "outputs": [],
   "source": [
    "def _forward_fn_linear1(x):\n",
    "  module = MyLinear1(output_size=2)\n",
    "  return module(x)\n",
    "\n",
    "forward_linear1 = hk.transform(_forward_fn_linear1) # return transformed object: init, apply"
   ]
  },
  {
   "cell_type": "code",
   "execution_count": 5,
   "metadata": {},
   "outputs": [
    {
     "name": "stdout",
     "output_type": "stream",
     "text": [
      "{'my_linear1': {'w': DeviceArray([[-0.30350366,  0.5123803 ],\n",
      "             [ 0.08009139, -0.3163005 ],\n",
      "             [ 0.60566676,  0.5820702 ]], dtype=float32), 'b': DeviceArray([1., 1.], dtype=float32)}}\n"
     ]
    }
   ],
   "source": [
    "dummy_x = jnp.array([[1., 2., 3.]])\n",
    "rng_key = jax.random.PRNGKey(42)\n",
    "\n",
    "params = forward_linear1.init(rng=rng_key, x=dummy_x)\n",
    "print(params)"
   ]
  },
  {
   "cell_type": "code",
   "execution_count": 6,
   "metadata": {},
   "outputs": [
    {
     "name": "stdout",
     "output_type": "stream",
     "text": [
      "Output 1 : [[2.6736794 2.62599  ]]\n",
      "Output 2 (same as output 1): [[2.6736794 2.62599  ]]\n",
      "Output 3 : [[3.819336  4.9589844]\n",
      " [4.965576  7.2924805]]\n"
     ]
    }
   ],
   "source": [
    "sample_x = jnp.array([[1., 2., 3.]])\n",
    "sample_x_2 = jnp.array([[4., 5., 6.], [7., 8., 9.]])\n",
    "\n",
    "output_1 = forward_linear1.apply(params=params, x=sample_x, rng=rng_key)\n",
    "# Outputs are identical for given inputs since the forward inference is non-stochastic.\n",
    "# , `apply` don't need rng_key \n",
    "output_2 = forward_linear1.apply(params=params, x=sample_x, rng=rng_key)\n",
    "\n",
    "output_3 = forward_linear1.apply(params=params, x=sample_x_2, rng=rng_key)\n",
    "\n",
    "print(f'Output 1 : {output_1}')\n",
    "print(f'Output 2 (same as output 1): {output_2}')\n",
    "print(f'Output 3 : {output_3}')"
   ]
  },
  {
   "cell_type": "code",
   "execution_count": 7,
   "metadata": {},
   "outputs": [
    {
     "name": "stdout",
     "output_type": "stream",
     "text": [
      "Output without random key in forward pass \n",
      " [[2.6736794 2.62599  ]]\n"
     ]
    }
   ],
   "source": [
    "forward_without_rng = hk.without_apply_rng(hk.transform(_forward_fn_linear1))\n",
    "params = forward_without_rng.init(rng=rng_key, x=sample_x)\n",
    "output = forward_without_rng.apply(x=sample_x, params=params)\n",
    "print(f'Output without random key in forward pass \\n {output_1}')"
   ]
  },
  {
   "cell_type": "code",
   "execution_count": 8,
   "metadata": {},
   "outputs": [
    {
     "name": "stdout",
     "output_type": "stream",
     "text": [
      "Mutated params \n",
      " : {'my_linear1': {'b': DeviceArray([2., 2.], dtype=float32), 'w': DeviceArray([[0.69649637, 1.5123804 ],\n",
      "             [1.0800914 , 0.6836995 ],\n",
      "             [1.6056668 , 1.5820701 ]], dtype=float32)}}\n",
      "Output with mutated params \n",
      " [[9.673679 9.62599 ]]\n"
     ]
    }
   ],
   "source": [
    "mutated_params = jax.tree_map(lambda x: x+1., params)\n",
    "print(f'Mutated params \\n : {mutated_params}')\n",
    "mutated_output = forward_without_rng.apply(x=sample_x, params=mutated_params)\n",
    "print(f'Output with mutated params \\n {mutated_output}')"
   ]
  },
  {
   "cell_type": "markdown",
   "metadata": {},
   "source": [
    "#### Stateful: `hk.get_state` & `hk.transform_with_state`\n",
    "carrying some internal state across function calls"
   ]
  },
  {
   "cell_type": "code",
   "execution_count": 9,
   "metadata": {},
   "outputs": [
    {
     "name": "stdout",
     "output_type": "stream",
     "text": [
      "Initial params:\n",
      "{'~': {'multiplier': DeviceArray([1.], dtype=float32)}}\n",
      "Initial state:\n",
      "{'~': {'counter': DeviceArray(1, dtype=int32)}}\n",
      "##########\n",
      "After 1 iterations:\n",
      "Output: [[6.]]\n",
      "State: {'~': {'counter': DeviceArray(2, dtype=int32)}}\n",
      "##########\n",
      "After 2 iterations:\n",
      "Output: [[7.]]\n",
      "State: {'~': {'counter': DeviceArray(3, dtype=int32)}}\n",
      "##########\n",
      "After 3 iterations:\n",
      "Output: [[8.]]\n",
      "State: {'~': {'counter': DeviceArray(4, dtype=int32)}}\n",
      "##########\n"
     ]
    }
   ],
   "source": [
    "def stateful_f(x):\n",
    "  counter = hk.get_state(\"counter\", shape=[], dtype=jnp.int32, init=jnp.ones)\n",
    "  multiplier = hk.get_parameter('multiplier', shape=[1,], dtype=x.dtype, init=jnp.ones)\n",
    "  hk.set_state(\"counter\", counter + 1)\n",
    "  output = x + multiplier * counter\n",
    "  return output\n",
    "\n",
    "stateful_forward = hk.without_apply_rng(hk.transform_with_state(stateful_f))\n",
    "sample_x = jnp.array([[5., ]])\n",
    "params, state = stateful_forward.init(x=sample_x, rng=rng_key)\n",
    "print(f'Initial params:\\n{params}\\nInitial state:\\n{state}')\n",
    "print('##########')\n",
    "for i in range(3):\n",
    "  output, state = stateful_forward.apply(params, state, x=sample_x)\n",
    "  print(f'After {i+1} iterations:\\nOutput: {output}\\nState: {state}')\n",
    "  print('##########')"
   ]
  },
  {
   "cell_type": "markdown",
   "metadata": {},
   "source": [
    "#### Built-in nets, modules"
   ]
  },
  {
   "cell_type": "code",
   "execution_count": 10,
   "metadata": {},
   "outputs": [
    {
     "data": {
      "text/plain": [
       "{'custom_linear/~/hk_internal_linear/~/linear_0': {'w': DeviceArray([[ 1.5159501 , -0.23353338]], dtype=float32),\n",
       "  'b': DeviceArray([0., 0.], dtype=float32)},\n",
       " 'custom_linear/~/hk_internal_linear/~/linear_1': {'w': DeviceArray([[-0.22075887, -0.2737596 ,  0.5931483 ],\n",
       "               [ 0.78180665,  0.72626317, -0.6860752 ]], dtype=float32),\n",
       "  'b': DeviceArray([0., 0., 0.], dtype=float32)},\n",
       " 'custom_linear/~/old_linear': {'w': DeviceArray([[ 0.28584382,  0.31626165],\n",
       "               [ 0.23357746, -0.4827032 ],\n",
       "               [-0.14647584, -0.71857005]], dtype=float32),\n",
       "  'b': DeviceArray([1., 1.], dtype=float32)}}"
      ]
     },
     "execution_count": 10,
     "metadata": {},
     "output_type": "execute_result"
    }
   ],
   "source": [
    "# See: https://dm-haiku.readthedocs.io/en/latest/api.html#common-modules\n",
    "\n",
    "class MyModuleCustom(hk.Module):\n",
    "  def __init__(self, output_size=2, name='custom_linear'):\n",
    "    super().__init__(name=name)\n",
    "    self._internal_linear_1 = hk.nets.MLP(output_sizes=[2, 3], name='hk_internal_linear')\n",
    "    self._internal_linear_2 = MyLinear1(output_size=output_size, name='old_linear')\n",
    "\n",
    "  def __call__(self, x):\n",
    "    return self._internal_linear_2(self._internal_linear_1(x))\n",
    "\n",
    "def _custom_forward_fn(x):\n",
    "  module = MyModuleCustom()\n",
    "  return module(x)\n",
    "\n",
    "custom_forward_without_rng = hk.without_apply_rng(hk.transform(_custom_forward_fn))\n",
    "params = custom_forward_without_rng.init(rng=rng_key, x=sample_x)\n",
    "params"
   ]
  },
  {
   "cell_type": "markdown",
   "metadata": {},
   "source": [
    "#### RNGs"
   ]
  },
  {
   "cell_type": "code",
   "execution_count": 14,
   "metadata": {},
   "outputs": [
    {
     "name": "stdout",
     "output_type": "stream",
     "text": [
      "key2 [255383827 267815257]\n",
      "next_key2 [3923418436 1366451097]\n",
      "key1 [1371681402 3011037117]\n",
      "Bernoullis are  : (DeviceArray(True, dtype=bool), DeviceArray(False, dtype=bool))\n",
      "\n",
      " Iteration 1\n",
      "key2 [255383827 267815257]\n",
      "next_key2 [3923418436 1366451097]\n",
      "key1 [1371681402 3011037117]\n",
      "Bernoullis are  : (DeviceArray(True, dtype=bool), DeviceArray(False, dtype=bool))\n",
      "\n",
      " Iteration 2\n",
      "key2 [255383827 267815257]\n",
      "next_key2 [3923418436 1366451097]\n",
      "key1 [1371681402 3011037117]\n",
      "Bernoullis are  : (DeviceArray(True, dtype=bool), DeviceArray(False, dtype=bool))\n",
      "\n",
      " Iteration 3\n",
      "key2 [255383827 267815257]\n",
      "next_key2 [3923418436 1366451097]\n",
      "key1 [1371681402 3011037117]\n",
      "Bernoullis are  : (DeviceArray(True, dtype=bool), DeviceArray(False, dtype=bool))\n",
      "\n",
      " Iteration 4\n",
      "key2 [255383827 267815257]\n",
      "next_key2 [3923418436 1366451097]\n",
      "key1 [1371681402 3011037117]\n",
      "Bernoullis are  : (DeviceArray(True, dtype=bool), DeviceArray(False, dtype=bool))\n",
      "\n",
      " Iteration 5\n",
      "key2 [255383827 267815257]\n",
      "next_key2 [3923418436 1366451097]\n",
      "key1 [1371681402 3011037117]\n",
      "Bernoullis are  : (DeviceArray(True, dtype=bool), DeviceArray(False, dtype=bool))\n"
     ]
    }
   ],
   "source": [
    "class HkRandom2(hk.Module):\n",
    "  def __init__(self, rate=0.5):\n",
    "    super().__init__()\n",
    "    self.rate = rate\n",
    "\n",
    "  def __call__(self, x):\n",
    "    key1 = hk.next_rng_key()\n",
    "    print(\"key1\", key1)\n",
    "    return jax.random.bernoulli(key1, 1.0 - self.rate, shape=x.shape)\n",
    "\n",
    "\n",
    "class HkRandomNest(hk.Module):\n",
    "  def __init__(self, rate=0.5):\n",
    "    super().__init__()\n",
    "    self.rate = rate\n",
    "    self._another_random_module = HkRandom2()\n",
    "\n",
    "  def __call__(self, x):\n",
    "    key2 = hk.next_rng_key()\n",
    "    print(\"key2\",key2)\n",
    "    print(\"next_key2\", hk.next_rng_key())\n",
    "    p1 = self._another_random_module(x)\n",
    "    p2 = jax.random.bernoulli(key2, 1.0 - self.rate, shape=x.shape)\n",
    "    print(f'Bernoullis are  : {p1, p2}')\n",
    "\n",
    "# Note that the modules that are stochastic cannot be wrapped with hk.without_apply_rng()\n",
    "forward = hk.transform(lambda x: HkRandomNest()(x))\n",
    "\n",
    "x = jnp.array(1.)\n",
    "params = forward.init(rng_key, x=x)\n",
    "for i in range(5):\n",
    "  print(f'\\n Iteration {i+1}')\n",
    "  prediction = forward.apply(params, x=x, rng=rng_key)"
   ]
  },
  {
   "cell_type": "markdown",
   "metadata": {},
   "source": [
    "## Limitation of Nesting Haiku and Jax\n",
    "  \n",
    "https://dm-haiku.readthedocs.io/en/latest/notebooks/transforms.html\n"
   ]
  },
  {
   "cell_type": "markdown",
   "metadata": {},
   "source": [
    "TL;DR: A JAX transform inside of a hk.transform is likely to transform a side effecting function, which will result in an UnexpectedTracerError. This page describes two ways to get around this.  \n",
    "\n",
    "Once a Haiku network has been transformed to a pair of pure functions using hk.transform, it’s possible to freely combine these with any JAX transformations like jax.jit, jax.grad, jax.scan and so on."
   ]
  },
  {
   "cell_type": "markdown",
   "metadata": {},
   "source": [
    "<table class=\"docutils align-default\">\n",
    "  <colgroup>\n",
    "  <col style=\"width: 35%\">\n",
    "  <col style=\"width: 24%\">\n",
    "  <col style=\"width: 41%\">\n",
    "  </colgroup>\n",
    "  <thead>\n",
    "  <tr class=\"row-odd\"><th class=\"head\"><p>What?</p></th>\n",
    "  <th class=\"head\"><p>Works?</p></th>\n",
    "  <th class=\"head\"><p>Example</p></th>\n",
    "  </tr>\n",
    "  </thead>\n",
    "  <tbody>\n",
    "  <tr class=\"row-even\"><td><p>vmapping outside a hk.transform</p></td>\n",
    "  <td><p style=\"color: green;\">✔ yes!</p></td>\n",
    "  <td><p>jax.vmap(hk.transform(hk.nets.ResNet50))</p></td>\n",
    "  </tr>\n",
    "  <tr class=\"row-odd\"><td><p>vmapping inside a hk.transform</p></td>\n",
    "  <td><p style=\"color: red;\">✖ unexpected tracer error</p></td>\n",
    "  <td><p>hk.transform(jax.vmap(hk.nets.ResNet50))</p></td>\n",
    "  </tr>\n",
    "  <tr class=\"row-even\"><td><p>vmapping a nested hk.transform (without lift)</p></td>\n",
    "  <td><p style=\"color: red;\">✖ inner state is not registered</p></td>\n",
    "  <td><p>hk.transform(jax.vmap(hk.transform(hk.nets.ResNet50)))</p></td>\n",
    "  </tr>\n",
    "  <tr class=\"row-odd\"><td><p>vmapping a nested hk.transform (with lift)</p></td>\n",
    "  <td><p style=\"color: green;\">✔ yes!</p></td>\n",
    "  <td><p>hk.transform(jax.vmap(hk.lift(hk.transform(hk.nets.ResNet50))))</p></td>\n",
    "  </tr>\n",
    "  <tr class=\"row-even\"><td><p>using hk.vmap</p></td>\n",
    "  <td><p style=\"color: green;\">✔ yes!</p></td>\n",
    "  <td><p>hk.transform(hk.vmap(hk.nets.ResNet50))</p></td>\n",
    "  </tr>\n",
    "  </tbody>\n",
    "</table>"
   ]
  },
  {
   "cell_type": "code",
   "execution_count": 15,
   "metadata": {},
   "outputs": [
    {
     "name": "stdout",
     "output_type": "stream",
     "text": [
      "UnexpectedTracerError: applied JAX transform to side effecting function\n"
     ]
    }
   ],
   "source": [
    "def net(x): # inside of a hk.transform, this is still side-effecting\n",
    "  w = hk.get_parameter(\"w\", (2, 2), init=jnp.ones) # same goes with next_rng_key\n",
    "  return w @ x\n",
    "\n",
    "def eval_shape_net(x):\n",
    "  output_shape = jax.eval_shape(net, x) # eval_shape on side-effecting function\n",
    "  return net(x)                         # UnexpectedTracerError!\n",
    "\n",
    "init, _ = hk.transform(eval_shape_net)\n",
    "try:\n",
    "  init(jax.random.PRNGKey(666), jnp.ones((2, 2)))\n",
    "except jax.errors.UnexpectedTracerError:\n",
    "  print(\"UnexpectedTracerError: applied JAX transform to side effecting function\")"
   ]
  },
  {
   "cell_type": "markdown",
   "metadata": {},
   "source": [
    "These examples use `jax.eval_shape`, but could have used any higher-order JAX function (eg. `jax.vmap`, `jax.scan`, `jax.while_loop`, …)."
   ]
  },
  {
   "cell_type": "code",
   "execution_count": 16,
   "metadata": {},
   "outputs": [
    {
     "data": {
      "text/plain": [
       "(ShapeDtypeStruct(shape=(3, 3), dtype=float32),\n",
       " DeviceArray([[2., 2., 2.],\n",
       "              [2., 2., 2.],\n",
       "              [2., 2., 2.]], dtype=float32))"
      ]
     },
     "execution_count": 16,
     "metadata": {},
     "output_type": "execute_result"
    }
   ],
   "source": [
    "def net(w, x): # no side effects! (PURE function)\n",
    "  return w @ x\n",
    "\n",
    "def eval_shape_net(x):\n",
    "  w = hk.get_parameter(\"w\", (3, 2), init=jnp.ones)\n",
    "  output_shape = jax.eval_shape(net, w, x) # net is now side-effect free\n",
    "  return output_shape, net(w, x)\n",
    "\n",
    "key = jax.random.PRNGKey(777)\n",
    "x = jnp.ones((2, 3))\n",
    "init, apply = hk.transform(eval_shape_net)\n",
    "params = init(key, x)\n",
    "apply(params, key, x)"
   ]
  },
  {
   "cell_type": "code",
   "execution_count": 18,
   "metadata": {},
   "outputs": [
    {
     "name": "stdout",
     "output_type": "stream",
     "text": [
      "UnexpectedTracerError: applied JAX transform to side effecting function\n"
     ]
    }
   ],
   "source": [
    "def eval_shape_net(x):\n",
    "  net = hk.nets.MLP([300, 100]) # impossible to detach get_parameter inside\n",
    "  output_shape = jax.eval_shape(net, x)\n",
    "  return output_shape, net(x)\n",
    "\n",
    "init, _ = hk.transform(eval_shape_net)\n",
    "try:\n",
    "  init(jax.random.PRNGKey(666), jnp.ones((2, 2)))\n",
    "except jax.errors.UnexpectedTracerError:\n",
    "  print(\"UnexpectedTracerError: applied JAX transform to side effecting function\")"
   ]
  },
  {
   "cell_type": "code",
   "execution_count": 20,
   "metadata": {},
   "outputs": [
    {
     "data": {
      "text/plain": [
       "(DeviceArray([[-0.21376152,  0.19059503, -0.29319692, ...,  0.7637194 ,\n",
       "                0.47994688, -0.7069051 ],\n",
       "              [-0.21376152,  0.19059503, -0.29319692, ...,  0.7637194 ,\n",
       "                0.47994688, -0.7069051 ],\n",
       "              [-0.21376152,  0.19059503, -0.29319692, ...,  0.7637194 ,\n",
       "                0.47994688, -0.7069051 ],\n",
       "              ...,\n",
       "              [-0.21376152,  0.19059503, -0.29319692, ...,  0.7637194 ,\n",
       "                0.47994688, -0.7069051 ],\n",
       "              [-0.21376152,  0.19059503, -0.29319692, ...,  0.7637194 ,\n",
       "                0.47994688, -0.7069051 ],\n",
       "              [-0.21376152,  0.19059503, -0.29319692, ...,  0.7637194 ,\n",
       "                0.47994688, -0.7069051 ]], dtype=float32),\n",
       " ShapeDtypeStruct(shape=(100, 100), dtype=float32))"
      ]
     },
     "execution_count": 20,
     "metadata": {},
     "output_type": "execute_result"
    }
   ],
   "source": [
    "# Solution 1: `hk.lift`\n",
    "def eval_shape_net(x):\n",
    "  net = hk.nets.MLP([300, 100])    # still side-effecting\n",
    "  init, apply = hk.transform(net)  # nested transform\n",
    "  params = hk.lift(init, name=\"inner\")(hk.next_rng_key(), x) # register parameters in outer module scope with name \"inner\"\n",
    "  output_shape = jax.eval_shape(apply, params, hk.next_rng_key(), x) # apply is a functionaly pure function and can be transformed!\n",
    "  out = net(x)\n",
    "  return out, output_shape\n",
    "\n",
    "\n",
    "init, apply = hk.transform(eval_shape_net)\n",
    "params = init(jax.random.PRNGKey(777), jnp.ones((100, 100)))\n",
    "apply(params, jax.random.PRNGKey(777), jnp.ones((100, 100)))"
   ]
  },
  {
   "cell_type": "code",
   "execution_count": 21,
   "metadata": {},
   "outputs": [],
   "source": [
    "# Solution 2: Haiku's jax transforms\n",
    "def eval_shape_net(x):\n",
    "  net = hk.nets.MLP([300, 100])         # still side-effecting\n",
    "  output_shape = hk.eval_shape(net, x)  # hk.eval_shape threads through the Haiku state for you\n",
    "  out = net(x)\n",
    "  return out, output_shape\n",
    "\n",
    "\n",
    "init, apply = hk.transform(eval_shape_net)\n",
    "params = init(jax.random.PRNGKey(777), jnp.ones((100, 100)))\n",
    "out = apply(params, jax.random.PRNGKey(777), jnp.ones((100, 100)))"
   ]
  }
 ],
 "metadata": {
  "interpreter": {
   "hash": "2c9c7a98df09ad5d09aed9c39f66cd404562c24fcd761bc8bc141afc0ba32c4d"
  },
  "kernelspec": {
   "display_name": "Python 3.8.10 ('venv': venv)",
   "language": "python",
   "name": "python3"
  },
  "language_info": {
   "codemirror_mode": {
    "name": "ipython",
    "version": 3
   },
   "file_extension": ".py",
   "mimetype": "text/x-python",
   "name": "python",
   "nbconvert_exporter": "python",
   "pygments_lexer": "ipython3",
   "version": "3.8.10"
  },
  "orig_nbformat": 4
 },
 "nbformat": 4,
 "nbformat_minor": 2
}
