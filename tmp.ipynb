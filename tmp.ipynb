{
 "cells": [
  {
   "cell_type": "code",
   "execution_count": 1,
   "metadata": {},
   "outputs": [
    {
     "name": "stderr",
     "output_type": "stream",
     "text": [
      "\n"
     ]
    }
   ],
   "source": [
    "import numpy as np\n",
    "import gym\n",
    "import jax\n",
    "import jax.numpy as jnp\n",
    "from jax import random\n",
    "\n",
    "\n",
    "from utils import experience\n",
    "from value_prediction import approximator"
   ]
  },
  {
   "cell_type": "code",
   "execution_count": 2,
   "metadata": {},
   "outputs": [],
   "source": [
    "key = random.PRNGKey(42)"
   ]
  },
  {
   "cell_type": "markdown",
   "metadata": {},
   "source": [
    "## test `Accumulator`"
   ]
  },
  {
   "cell_type": "code",
   "execution_count": 3,
   "metadata": {},
   "outputs": [],
   "source": [
    "def random_transition(rng_key):\n",
    "  keys = random.split(rng_key, 5)\n",
    "  action = random.normal(keys[0])\n",
    "  step_type = random.choice(keys[1], np.array([0,1]), (), p=np.array([0.8,0.2]))\n",
    "  obsv = random.normal(keys[2], (5,))\n",
    "  reward = random.normal(keys[3])\n",
    "  discount = random.normal(keys[4])\n",
    "  timestep = experience.TimeStep(step_type, obsv, reward, discount)\n",
    "  return action, timestep"
   ]
  },
  {
   "cell_type": "code",
   "execution_count": 4,
   "metadata": {},
   "outputs": [],
   "source": [
    "num_trial = 20\n",
    "acc = experience.Accumulator(100,10)\n",
    "for _ in range(num_trial):\n",
    "  key, rng_key = random.split(key)\n",
    "  acc.push(*random_transition(rng_key))"
   ]
  },
  {
   "cell_type": "code",
   "execution_count": 11,
   "metadata": {},
   "outputs": [
    {
     "name": "stdout",
     "output_type": "stream",
     "text": [
      "[-0.5247943   1.2919614   0.17375942 -0.16435573 -0.4007549   0.8670506\n",
      "  0.68050987 -0.55330265  0.8703184   1.5482894 ]\n",
      "(10, 5)\n",
      "[-1.0339216  -0.37174553 -0.6897025   1.2958331   0.12408566  0.94940984\n",
      " -0.36921528  0.1504747   1.0099529   0.1570648 ]\n"
     ]
    }
   ],
   "source": [
    "if acc.len_ep():\n",
    "  key, rng_key = random.split(key)\n",
    "  ep = acc.sample_one_ep(rng_key=rng_key)\n",
    "  a_tm1, timesteps = ep\n",
    "  print(a_tm1)\n",
    "  print(timesteps.obsv.shape)\n",
    "  print(timesteps.reward)"
   ]
  },
  {
   "cell_type": "markdown",
   "metadata": {},
   "source": [
    "### test `Accumulator` with `gym` environment"
   ]
  },
  {
   "cell_type": "markdown",
   "metadata": {},
   "source": [
    "#### Blackjack-v1"
   ]
  },
  {
   "cell_type": "code",
   "execution_count": 3,
   "metadata": {},
   "outputs": [
    {
     "data": {
      "text/plain": [
       "(Tuple(Discrete(32), Discrete(11), Discrete(2)), 32)"
      ]
     },
     "execution_count": 3,
     "metadata": {},
     "output_type": "execute_result"
    }
   ],
   "source": [
    "env = gym.make('Blackjack-v1')\n",
    "env.observation_space, env.observation_space[0].n"
   ]
  },
  {
   "cell_type": "code",
   "execution_count": 4,
   "metadata": {},
   "outputs": [],
   "source": [
    "acc = experience.Accumulator(100,10)\n",
    "num_ep = 10\n",
    "\n",
    "for _ in range(num_ep):\n",
    "    discount = 1\n",
    "    gamma = 0.9 # could be gamma*lambda*lho\n",
    "    observation = env.reset()\n",
    "    acc.push(None, experience.TimeStep(obsv = np.array(observation)))\n",
    "    for _ in range(100):\n",
    "        action = env.action_space.sample()\n",
    "        # print(observation)\n",
    "        observation, reward, done, info = env.step(action)\n",
    "        acc.push(action, experience.TimeStep(\n",
    "            int(done),\n",
    "            np.array(observation),\n",
    "            reward,\n",
    "            discount\n",
    "        ))\n",
    "        discount*=gamma\n",
    "        if done:\n",
    "            break"
   ]
  },
  {
   "cell_type": "code",
   "execution_count": 5,
   "metadata": {},
   "outputs": [
    {
     "name": "stdout",
     "output_type": "stream",
     "text": [
      "actions [0 0]\n",
      "observations' [[11 10  0]\n",
      " [11 10  0]]\n",
      "rewards [ 0. -1.]\n"
     ]
    }
   ],
   "source": [
    "if acc.len_ep():\n",
    "  key, rng_key = random.split(key)\n",
    "  ep = acc.sample_one_ep(rng_key=rng_key)\n",
    "  a_tm1, timesteps = ep\n",
    "  print(\"actions\", a_tm1)\n",
    "  print(\"observations'\", timesteps.obsv)\n",
    "  print(\"rewards\", timesteps.reward)"
   ]
  },
  {
   "cell_type": "code",
   "execution_count": 6,
   "metadata": {},
   "outputs": [],
   "source": [
    "appr = approximator.tabularApproximator([np.arange(sp.n) for sp in env.observation_space])"
   ]
  },
  {
   "cell_type": "code",
   "execution_count": 8,
   "metadata": {},
   "outputs": [
    {
     "data": {
      "text/plain": [
       "DeviceArray([0., 0.], dtype=float32)"
      ]
     },
     "execution_count": 8,
     "metadata": {},
     "output_type": "execute_result"
    }
   ],
   "source": [
    "jax.jit(jax.vmap(appr.v))(timesteps.obsv)"
   ]
  },
  {
   "cell_type": "markdown",
   "metadata": {},
   "source": [
    "#### CartPole"
   ]
  },
  {
   "cell_type": "code",
   "execution_count": 4,
   "metadata": {},
   "outputs": [],
   "source": [
    "env = gym.make('CartPole-v1')"
   ]
  },
  {
   "cell_type": "code",
   "execution_count": 5,
   "metadata": {},
   "outputs": [],
   "source": [
    "acc = experience.Accumulator(max_t = 100,max_ep = 10)\n",
    "num_ep = 10\n",
    "\n",
    "for _ in range(num_ep):\n",
    "    discount = 1\n",
    "    gamma = 0.9 # could be gamma*lambda*lho\n",
    "    observation = env.reset()\n",
    "    acc.push(None, experience.TimeStep(obsv = np.array(observation)))\n",
    "    for _ in range(100):\n",
    "        action = env.action_space.sample()\n",
    "        # print(observation)\n",
    "        observation, reward, done, info = env.step(action)\n",
    "        acc.push(action, experience.TimeStep(\n",
    "            int(done),\n",
    "            np.array(observation),\n",
    "            reward,\n",
    "            discount\n",
    "        ))\n",
    "        discount*=gamma\n",
    "        if done:\n",
    "            break"
   ]
  },
  {
   "cell_type": "code",
   "execution_count": 6,
   "metadata": {},
   "outputs": [
    {
     "name": "stdout",
     "output_type": "stream",
     "text": [
      "actions [0 1 0 1 1 0 1 1 0 1 0 1 1 0 0 1]\n",
      "observations' shape (16, 4)\n",
      "cartpole angles [-0.01089412 -0.0117533  -0.01853448 -0.01953659 -0.02650816 -0.0394553\n",
      " -0.04671806 -0.06007799 -0.0795783  -0.09361415 -0.1139827  -0.12911361\n",
      " -0.15076983 -0.17903107 -0.20245215 -0.22124057]\n",
      "rewards [0. 1. 1. 1. 1. 1. 1. 1. 1. 1. 1. 1. 1. 1. 1. 1.]\n"
     ]
    }
   ],
   "source": [
    "if acc.len_ep():\n",
    "  key, rng_key = random.split(key)\n",
    "  ep = acc.sample_one_ep(rng_key=rng_key)\n",
    "  a_tm1, timesteps = ep\n",
    "  print(\"actions\", a_tm1)\n",
    "  print(\"observations' shape\", timesteps.obsv.shape)\n",
    "  print(\"cartpole angles\", timesteps.obsv[:, 2]) # terminate when out-of-screen or |angle|> .21 rad\n",
    "  print(\"rewards\", timesteps.reward)"
   ]
  },
  {
   "cell_type": "markdown",
   "metadata": {},
   "source": [
    "# test `TD`"
   ]
  },
  {
   "cell_type": "code",
   "execution_count": 4,
   "metadata": {},
   "outputs": [],
   "source": [
    "from value_prediction import td"
   ]
  },
  {
   "cell_type": "code",
   "execution_count": 11,
   "metadata": {},
   "outputs": [
    {
     "name": "stdout",
     "output_type": "stream",
     "text": [
      "2\n",
      "[2.875 4.625]\n",
      "[3.25 4.5  5.   4.  ]\n"
     ]
    }
   ],
   "source": [
    "print(td.td_zero_error(0, 1, 1, 1))\n",
    "# jitted_nstep_td_errors = jax.jit(td.nstep_td_errors, static_argnums=(0,))\n",
    "# print(jitted_nstep_td_errors(3, jnp.zeros(4), jnp.array([1, 2, 3, 4]), jnp.ones(4), .5))\n",
    "\n",
    "print(td.nstep_td_errors(3, jnp.zeros(4), jnp.array([1, 2, 3, 4]), jnp.ones(4), .5))\n",
    "print(td.td_lambda_errors(.5, jnp.zeros(4), jnp.array([1, 2, 3, 4]), jnp.zeros(4), 1))"
   ]
  },
  {
   "cell_type": "code",
   "execution_count": 12,
   "metadata": {},
   "outputs": [
    {
     "name": "stdout",
     "output_type": "stream",
     "text": [
      "827 µs ± 19.7 µs per loop (mean ± std. dev. of 7 runs, 1,000 loops each)\n",
      "822 µs ± 14.2 µs per loop (mean ± std. dev. of 7 runs, 1,000 loops each)\n"
     ]
    }
   ],
   "source": [
    "%timeit td.nstep_td_errors(3, jnp.zeros(4), jnp.array([1, 2, 3, 4]), jnp.ones(4), .5)\n",
    "%timeit td.td_lambda_errors(.5, jnp.zeros(4), jnp.array([1, 2, 3, 4]), jnp.zeros(4), .9)"
   ]
  },
  {
   "cell_type": "markdown",
   "metadata": {},
   "source": [
    "# Random stuff"
   ]
  },
  {
   "cell_type": "code",
   "execution_count": 3,
   "metadata": {},
   "outputs": [
    {
     "data": {
      "text/plain": [
       "DeviceArray([[0., 0., 0., 0.],\n",
       "             [0., 0., 0., 0.]], dtype=float32)"
      ]
     },
     "execution_count": 3,
     "metadata": {},
     "output_type": "execute_result"
    }
   ],
   "source": [
    "appr = approximator.tabularApproximator([jnp.arange(0,2), jnp.arange(-2,2)])\n",
    "appr.table"
   ]
  },
  {
   "cell_type": "code",
   "execution_count": 4,
   "metadata": {},
   "outputs": [
    {
     "data": {
      "text/plain": [
       "DeviceArray(0., dtype=float32)"
      ]
     },
     "execution_count": 4,
     "metadata": {},
     "output_type": "execute_result"
    }
   ],
   "source": [
    "appr.v([0,0])"
   ]
  },
  {
   "cell_type": "code",
   "execution_count": 5,
   "metadata": {},
   "outputs": [
    {
     "data": {
      "text/plain": [
       "DeviceArray([[0., 0., 0., 1.],\n",
       "             [0., 0., 0., 0.]], dtype=float32)"
      ]
     },
     "execution_count": 5,
     "metadata": {},
     "output_type": "execute_result"
    }
   ],
   "source": [
    "appr.update((0,1), 1)\n",
    "appr.table"
   ]
  },
  {
   "cell_type": "code",
   "execution_count": 6,
   "metadata": {},
   "outputs": [
    {
     "ename": "TypeError",
     "evalue": "only integer scalar arrays can be converted to a scalar index",
     "output_type": "error",
     "traceback": [
      "\u001b[0;31m---------------------------------------------------------------------------\u001b[0m",
      "\u001b[0;31mTypeError\u001b[0m                                 Traceback (most recent call last)",
      "\u001b[1;32m/home/juno/work/playground/jax-rl/tmp.ipynb Cell 26'\u001b[0m in \u001b[0;36m<cell line: 1>\u001b[0;34m()\u001b[0m\n\u001b[0;32m----> <a href='vscode-notebook-cell://wsl%2Bubuntu/home/juno/work/playground/jax-rl/tmp.ipynb#ch0000036vscode-remote?line=0'>1</a>\u001b[0m appr\u001b[39m.\u001b[39;49mbatch_update(jnp\u001b[39m.\u001b[39;49marray([[\u001b[39m0\u001b[39;49m,\u001b[39m-\u001b[39;49m\u001b[39m1\u001b[39;49m],[\u001b[39m0\u001b[39;49m,\u001b[39m0\u001b[39;49m]]), jnp\u001b[39m.\u001b[39;49marray([\u001b[39m2\u001b[39;49m,\u001b[39m2\u001b[39;49m]))\n\u001b[1;32m      <a href='vscode-notebook-cell://wsl%2Bubuntu/home/juno/work/playground/jax-rl/tmp.ipynb#ch0000036vscode-remote?line=1'>2</a>\u001b[0m appr\u001b[39m.\u001b[39mtable\n",
      "File \u001b[0;32m~/work/playground/jax-rl/value_prediction/approximator.py:39\u001b[0m, in \u001b[0;36mtabularApproximator.batch_update\u001b[0;34m(self, states, values)\u001b[0m\n\u001b[1;32m     <a href='file:///home/juno/work/playground/jax-rl/value_prediction/approximator.py?line=35'>36</a>\u001b[0m \u001b[39mdef\u001b[39;00m \u001b[39m_update_table\u001b[39m(table, x):\n\u001b[1;32m     <a href='file:///home/juno/work/playground/jax-rl/value_prediction/approximator.py?line=36'>37</a>\u001b[0m   \u001b[39mreturn\u001b[39;00m table\u001b[39m.\u001b[39mat[\u001b[39mtuple\u001b[39m(\u001b[39mself\u001b[39m\u001b[39m.\u001b[39mindexof(x[:\u001b[39m-\u001b[39m\u001b[39m1\u001b[39m]))]\u001b[39m.\u001b[39mset(x[\u001b[39m-\u001b[39m\u001b[39m1\u001b[39m]), \u001b[39mNone\u001b[39;00m\n\u001b[1;32m     <a href='file:///home/juno/work/playground/jax-rl/value_prediction/approximator.py?line=37'>38</a>\u001b[0m \u001b[39mself\u001b[39m\u001b[39m.\u001b[39mtable, ys \u001b[39m=\u001b[39m jax\u001b[39m.\u001b[39mlax\u001b[39m.\u001b[39mscan(_update_table, \\\n\u001b[0;32m---> <a href='file:///home/juno/work/playground/jax-rl/value_prediction/approximator.py?line=38'>39</a>\u001b[0m    \u001b[39mself\u001b[39m\u001b[39m.\u001b[39mtable, jnp\u001b[39m.\u001b[39;49mstack(states, jnp\u001b[39m.\u001b[39;49mexpand_dims(values, axis\u001b[39m=\u001b[39;49m\u001b[39m1\u001b[39;49m)), axis\u001b[39m=\u001b[39m\u001b[39m1\u001b[39m)\n\u001b[1;32m     <a href='file:///home/juno/work/playground/jax-rl/value_prediction/approximator.py?line=39'>40</a>\u001b[0m \u001b[39mreturn\u001b[39;00m \u001b[39m0\u001b[39m\n",
      "File \u001b[0;32m~/work/playground/venv/lib/python3.8/site-packages/jax/_src/numpy/lax_numpy.py:3396\u001b[0m, in \u001b[0;36mstack\u001b[0;34m(arrays, axis, out)\u001b[0m\n\u001b[1;32m   <a href='file:///home/juno/work/playground/venv/lib/python3.8/site-packages/jax/_src/numpy/lax_numpy.py?line=3393'>3394</a>\u001b[0m   \u001b[39mraise\u001b[39;00m \u001b[39mNotImplementedError\u001b[39;00m(\u001b[39m\"\u001b[39m\u001b[39mThe \u001b[39m\u001b[39m'\u001b[39m\u001b[39mout\u001b[39m\u001b[39m'\u001b[39m\u001b[39m argument to jnp.stack is not supported.\u001b[39m\u001b[39m\"\u001b[39m)\n\u001b[1;32m   <a href='file:///home/juno/work/playground/venv/lib/python3.8/site-packages/jax/_src/numpy/lax_numpy.py?line=3394'>3395</a>\u001b[0m \u001b[39mif\u001b[39;00m \u001b[39misinstance\u001b[39m(arrays, (np\u001b[39m.\u001b[39mndarray, ndarray)):\n\u001b[0;32m-> <a href='file:///home/juno/work/playground/venv/lib/python3.8/site-packages/jax/_src/numpy/lax_numpy.py?line=3395'>3396</a>\u001b[0m   axis \u001b[39m=\u001b[39m _canonicalize_axis(axis, arrays\u001b[39m.\u001b[39;49mndim)\n\u001b[1;32m   <a href='file:///home/juno/work/playground/venv/lib/python3.8/site-packages/jax/_src/numpy/lax_numpy.py?line=3396'>3397</a>\u001b[0m   \u001b[39mreturn\u001b[39;00m concatenate(expand_dims(arrays, axis \u001b[39m+\u001b[39m \u001b[39m1\u001b[39m), axis\u001b[39m=\u001b[39maxis)\n\u001b[1;32m   <a href='file:///home/juno/work/playground/venv/lib/python3.8/site-packages/jax/_src/numpy/lax_numpy.py?line=3397'>3398</a>\u001b[0m \u001b[39melse\u001b[39;00m:\n",
      "File \u001b[0;32m~/work/playground/venv/lib/python3.8/site-packages/jax/_src/util.py:285\u001b[0m, in \u001b[0;36mcanonicalize_axis\u001b[0;34m(axis, num_dims)\u001b[0m\n\u001b[1;32m    <a href='file:///home/juno/work/playground/venv/lib/python3.8/site-packages/jax/_src/util.py?line=282'>283</a>\u001b[0m \u001b[39mdef\u001b[39;00m \u001b[39mcanonicalize_axis\u001b[39m(axis, num_dims) \u001b[39m-\u001b[39m\u001b[39m>\u001b[39m \u001b[39mint\u001b[39m:\n\u001b[1;32m    <a href='file:///home/juno/work/playground/venv/lib/python3.8/site-packages/jax/_src/util.py?line=283'>284</a>\u001b[0m   \u001b[39m\"\"\"Canonicalize an axis in [-num_dims, num_dims) to [0, num_dims).\"\"\"\u001b[39;00m\n\u001b[0;32m--> <a href='file:///home/juno/work/playground/venv/lib/python3.8/site-packages/jax/_src/util.py?line=284'>285</a>\u001b[0m   axis \u001b[39m=\u001b[39m operator\u001b[39m.\u001b[39;49mindex(axis)\n\u001b[1;32m    <a href='file:///home/juno/work/playground/venv/lib/python3.8/site-packages/jax/_src/util.py?line=285'>286</a>\u001b[0m   \u001b[39mif\u001b[39;00m \u001b[39mnot\u001b[39;00m \u001b[39m-\u001b[39mnum_dims \u001b[39m<\u001b[39m\u001b[39m=\u001b[39m axis \u001b[39m<\u001b[39m num_dims:\n\u001b[1;32m    <a href='file:///home/juno/work/playground/venv/lib/python3.8/site-packages/jax/_src/util.py?line=286'>287</a>\u001b[0m     \u001b[39mraise\u001b[39;00m \u001b[39mValueError\u001b[39;00m(\u001b[39mf\u001b[39m\u001b[39m\"\u001b[39m\u001b[39maxis \u001b[39m\u001b[39m{\u001b[39;00maxis\u001b[39m}\u001b[39;00m\u001b[39m is out of bounds for array of dimension \u001b[39m\u001b[39m{\u001b[39;00mnum_dims\u001b[39m}\u001b[39;00m\u001b[39m\"\u001b[39m)\n",
      "File \u001b[0;32m/usr/lib/python3.8/functools.py:399\u001b[0m, in \u001b[0;36mpartialmethod._make_unbound_method.<locals>._method\u001b[0;34m(cls_or_self, *args, **keywords)\u001b[0m\n\u001b[1;32m    <a href='file:///usr/lib/python3.8/functools.py?line=396'>397</a>\u001b[0m \u001b[39mdef\u001b[39;00m \u001b[39m_method\u001b[39m(cls_or_self, \u001b[39m/\u001b[39m, \u001b[39m*\u001b[39margs, \u001b[39m*\u001b[39m\u001b[39m*\u001b[39mkeywords):\n\u001b[1;32m    <a href='file:///usr/lib/python3.8/functools.py?line=397'>398</a>\u001b[0m     keywords \u001b[39m=\u001b[39m {\u001b[39m*\u001b[39m\u001b[39m*\u001b[39m\u001b[39mself\u001b[39m\u001b[39m.\u001b[39mkeywords, \u001b[39m*\u001b[39m\u001b[39m*\u001b[39mkeywords}\n\u001b[0;32m--> <a href='file:///usr/lib/python3.8/functools.py?line=398'>399</a>\u001b[0m     \u001b[39mreturn\u001b[39;00m \u001b[39mself\u001b[39;49m\u001b[39m.\u001b[39;49mfunc(cls_or_self, \u001b[39m*\u001b[39;49m\u001b[39mself\u001b[39;49m\u001b[39m.\u001b[39;49margs, \u001b[39m*\u001b[39;49margs, \u001b[39m*\u001b[39;49m\u001b[39m*\u001b[39;49mkeywords)\n",
      "File \u001b[0;32m~/work/playground/venv/lib/python3.8/site-packages/jax/_src/device_array.py:41\u001b[0m, in \u001b[0;36m_forward_method\u001b[0;34m(attrname, self, fun, *args)\u001b[0m\n\u001b[1;32m     <a href='file:///home/juno/work/playground/venv/lib/python3.8/site-packages/jax/_src/device_array.py?line=39'>40</a>\u001b[0m \u001b[39mdef\u001b[39;00m \u001b[39m_forward_method\u001b[39m(attrname, \u001b[39mself\u001b[39m, fun, \u001b[39m*\u001b[39margs):\n\u001b[0;32m---> <a href='file:///home/juno/work/playground/venv/lib/python3.8/site-packages/jax/_src/device_array.py?line=40'>41</a>\u001b[0m   \u001b[39mreturn\u001b[39;00m fun(\u001b[39mgetattr\u001b[39;49m(\u001b[39mself\u001b[39;49m, attrname), \u001b[39m*\u001b[39;49margs)\n",
      "\u001b[0;31mTypeError\u001b[0m: only integer scalar arrays can be converted to a scalar index"
     ]
    }
   ],
   "source": [
    "appr.batch_update(jnp.array([[0,-1],[0,0]]), jnp.array([2,2]))\n",
    "appr.table"
   ]
  },
  {
   "cell_type": "code",
   "execution_count": 10,
   "metadata": {},
   "outputs": [
    {
     "data": {
      "text/plain": [
       "Traced<ShapedArray(float32[2,4])>with<BatchTrace(level=1/0)> with\n",
       "  val = DeviceArray([[[0., 2., 0., 1.],\n",
       "              [0., 0., 0., 0.]],\n",
       "\n",
       "             [[0., 0., 0., 2.],\n",
       "              [0., 0., 0., 0.]]], dtype=float32)\n",
       "  batch_dim = 0"
      ]
     },
     "execution_count": 10,
     "metadata": {},
     "output_type": "execute_result"
    }
   ],
   "source": [
    "appr.table"
   ]
  },
  {
   "cell_type": "code",
   "execution_count": 7,
   "metadata": {},
   "outputs": [
    {
     "ename": "TypeError",
     "evalue": "int() argument must be a string, a bytes-like object or a number, not 'tuple'",
     "output_type": "error",
     "traceback": [
      "\u001b[0;31m---------------------------------------------------------------------------\u001b[0m",
      "\u001b[0;31mTypeError\u001b[0m                                 Traceback (most recent call last)",
      "\u001b[1;32m/home/juno/work/playground/jax-rl/tmp.ipynb Cell 28'\u001b[0m in \u001b[0;36m<cell line: 1>\u001b[0;34m()\u001b[0m\n\u001b[0;32m----> <a href='vscode-notebook-cell://wsl%2Bubuntu/home/juno/work/playground/jax-rl/tmp.ipynb#ch0000038vscode-remote?line=0'>1</a>\u001b[0m \u001b[39mint\u001b[39;49m((\u001b[39m1.2\u001b[39;49m,\u001b[39m3.4\u001b[39;49m))\n",
      "\u001b[0;31mTypeError\u001b[0m: int() argument must be a string, a bytes-like object or a number, not 'tuple'"
     ]
    }
   ],
   "source": [
    "int((1.2,3.4))"
   ]
  },
  {
   "cell_type": "code",
   "execution_count": null,
   "metadata": {},
   "outputs": [],
   "source": []
  }
 ],
 "metadata": {
  "interpreter": {
   "hash": "2c9c7a98df09ad5d09aed9c39f66cd404562c24fcd761bc8bc141afc0ba32c4d"
  },
  "kernelspec": {
   "display_name": "Python 3.8.10 ('venv': venv)",
   "language": "python",
   "name": "python3"
  },
  "language_info": {
   "codemirror_mode": {
    "name": "ipython",
    "version": 3
   },
   "file_extension": ".py",
   "mimetype": "text/x-python",
   "name": "python",
   "nbconvert_exporter": "python",
   "pygments_lexer": "ipython3",
   "version": "3.8.10"
  },
  "orig_nbformat": 4
 },
 "nbformat": 4,
 "nbformat_minor": 2
}
