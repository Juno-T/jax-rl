{
 "cells": [
  {
   "cell_type": "code",
   "execution_count": 1,
   "metadata": {},
   "outputs": [
    {
     "name": "stderr",
     "output_type": "stream",
     "text": [
      "\n"
     ]
    }
   ],
   "source": [
    "import numpy as np\n",
    "import gym\n",
    "import jax\n",
    "import jax.numpy as jnp\n",
    "from jax import random\n",
    "\n",
    "\n",
    "from utils import experience"
   ]
  },
  {
   "cell_type": "code",
   "execution_count": 2,
   "metadata": {},
   "outputs": [],
   "source": [
    "key = random.PRNGKey(42)"
   ]
  },
  {
   "cell_type": "markdown",
   "metadata": {},
   "source": [
    "## test `Accumulator`"
   ]
  },
  {
   "cell_type": "code",
   "execution_count": 3,
   "metadata": {},
   "outputs": [],
   "source": [
    "def random_transition(rng_key):\n",
    "  keys = random.split(rng_key, 5)\n",
    "  action = random.normal(keys[0])\n",
    "  step_type = random.choice(keys[1], np.array([0,1]), (), p=np.array([0.8,0.2]))\n",
    "  obsv = random.normal(keys[2], (5,))\n",
    "  reward = random.normal(keys[3])\n",
    "  discount = random.normal(keys[4])\n",
    "  timestep = experience.TimeStep(step_type, obsv, reward, discount)\n",
    "  return action, timestep"
   ]
  },
  {
   "cell_type": "code",
   "execution_count": 4,
   "metadata": {},
   "outputs": [],
   "source": [
    "num_trial = 20\n",
    "acc = experience.Accumulator(100,10)\n",
    "for _ in range(num_trial):\n",
    "  key, rng_key = random.split(key)\n",
    "  acc.push(*random_transition(rng_key))"
   ]
  },
  {
   "cell_type": "code",
   "execution_count": 11,
   "metadata": {},
   "outputs": [
    {
     "name": "stdout",
     "output_type": "stream",
     "text": [
      "[-0.5247943   1.2919614   0.17375942 -0.16435573 -0.4007549   0.8670506\n",
      "  0.68050987 -0.55330265  0.8703184   1.5482894 ]\n",
      "(10, 5)\n",
      "[-1.0339216  -0.37174553 -0.6897025   1.2958331   0.12408566  0.94940984\n",
      " -0.36921528  0.1504747   1.0099529   0.1570648 ]\n"
     ]
    }
   ],
   "source": [
    "if acc.len_ep():\n",
    "  key, rng_key = random.split(key)\n",
    "  ep = acc.sample_one_ep(rng_key=rng_key)\n",
    "  a_tm1, timesteps = ep\n",
    "  print(a_tm1)\n",
    "  print(timesteps.obsv.shape)\n",
    "  print(timesteps.reward)"
   ]
  },
  {
   "cell_type": "markdown",
   "metadata": {},
   "source": [
    "### test `Accumulator` with `gym` environment"
   ]
  },
  {
   "cell_type": "markdown",
   "metadata": {},
   "source": [
    "#### Blackjack-v1"
   ]
  },
  {
   "cell_type": "code",
   "execution_count": 54,
   "metadata": {},
   "outputs": [],
   "source": [
    "env = gym.make('Blackjack-v1')"
   ]
  },
  {
   "cell_type": "code",
   "execution_count": 56,
   "metadata": {},
   "outputs": [],
   "source": [
    "acc = experience.Accumulator(100,10)\n",
    "num_ep = 10\n",
    "\n",
    "for _ in range(num_ep):\n",
    "    discount = 1\n",
    "    gamma = 0.9 # could be gamma*lambda*lho\n",
    "    observation = env.reset()\n",
    "    acc.push(None, experience.TimeStep(obsv = np.array(observation)))\n",
    "    for _ in range(100):\n",
    "        action = env.action_space.sample()\n",
    "        # print(observation)\n",
    "        observation, reward, done, info = env.step(action)\n",
    "        acc.push(action, experience.TimeStep(\n",
    "            int(done),\n",
    "            np.array(observation),\n",
    "            reward,\n",
    "            discount\n",
    "        ))\n",
    "        discount*=gamma\n",
    "        if done:\n",
    "            break"
   ]
  },
  {
   "cell_type": "code",
   "execution_count": 64,
   "metadata": {},
   "outputs": [
    {
     "name": "stdout",
     "output_type": "stream",
     "text": [
      "actions [0 0]\n",
      "observations' [[10  4  0]\n",
      " [10  4  0]]\n",
      "rewards [ 0. -1.]\n"
     ]
    }
   ],
   "source": [
    "if acc.len_ep():\n",
    "  key, rng_key = random.split(key)\n",
    "  ep = acc.sample_one_ep(rng_key=rng_key)\n",
    "  a_tm1, timesteps = ep\n",
    "  print(\"actions\", a_tm1)\n",
    "  print(\"observations'\", timesteps.obsv)\n",
    "  print(\"rewards\", timesteps.reward)"
   ]
  },
  {
   "cell_type": "markdown",
   "metadata": {},
   "source": [
    "#### CartPole"
   ]
  },
  {
   "cell_type": "code",
   "execution_count": 65,
   "metadata": {},
   "outputs": [],
   "source": [
    "env = gym.make('CartPole-v1')"
   ]
  },
  {
   "cell_type": "code",
   "execution_count": 68,
   "metadata": {},
   "outputs": [],
   "source": [
    "acc = experience.Accumulator(max_t = 100,max_ep = 10)\n",
    "num_ep = 10\n",
    "\n",
    "for _ in range(num_ep):\n",
    "    discount = 1\n",
    "    gamma = 0.9 # could be gamma*lambda*lho\n",
    "    observation = env.reset()\n",
    "    acc.push(None, experience.TimeStep(obsv = np.array(observation)))\n",
    "    for _ in range(100):\n",
    "        action = env.action_space.sample()\n",
    "        # print(observation)\n",
    "        observation, reward, done, info = env.step(action)\n",
    "        acc.push(action, experience.TimeStep(\n",
    "            int(done),\n",
    "            np.array(observation),\n",
    "            reward,\n",
    "            discount\n",
    "        ))\n",
    "        discount*=gamma\n",
    "        if done:\n",
    "            break"
   ]
  },
  {
   "cell_type": "code",
   "execution_count": 75,
   "metadata": {},
   "outputs": [
    {
     "name": "stdout",
     "output_type": "stream",
     "text": [
      "actions [0 1 1 0 1 0 1 0 0 1 0 1 1 1 0 0 0 1 1 0 0 1 0 1 1]\n",
      "observations' shape (25, 4)\n",
      "cartpole angles [ 0.01291977  0.01277802  0.0068647  -0.00482113 -0.01061021 -0.02228329\n",
      " -0.02816993 -0.0400491  -0.04625471 -0.04686455 -0.0536126  -0.05480978\n",
      " -0.06218904 -0.07575729 -0.09555745 -0.10999842 -0.11921654 -0.12331293\n",
      " -0.13396502 -0.15119417 -0.16346852 -0.17091283 -0.18514588 -0.19469127\n",
      " -0.21113361]\n",
      "rewards [0. 1. 1. 1. 1. 1. 1. 1. 1. 1. 1. 1. 1. 1. 1. 1. 1. 1. 1. 1. 1. 1. 1. 1.\n",
      " 1.]\n"
     ]
    }
   ],
   "source": [
    "if acc.len_ep():\n",
    "  key, rng_key = random.split(key)\n",
    "  ep = acc.sample_one_ep(rng_key=rng_key)\n",
    "  a_tm1, timesteps = ep\n",
    "  print(\"actions\", a_tm1)\n",
    "  print(\"observations' shape\", timesteps.obsv.shape)\n",
    "  print(\"cartpole angles\", timesteps.obsv[:, 2]) # terminate when out-of-screen or |angle|> .21 rad\n",
    "  print(\"rewards\", timesteps.reward)"
   ]
  },
  {
   "cell_type": "code",
   "execution_count": null,
   "metadata": {},
   "outputs": [],
   "source": []
  },
  {
   "cell_type": "code",
   "execution_count": 80,
   "metadata": {},
   "outputs": [
    {
     "ename": "TypeError",
     "evalue": "sequence index must be integer, not 'tuple'",
     "output_type": "error",
     "traceback": [
      "\u001b[0;31m---------------------------------------------------------------------------\u001b[0m",
      "\u001b[0;31mTypeError\u001b[0m                                 Traceback (most recent call last)",
      "\u001b[1;32m/home/juno/work/playground/jax-rl/tmp.ipynb Cell 17'\u001b[0m in \u001b[0;36m<cell line: 1>\u001b[0;34m()\u001b[0m\n\u001b[0;32m----> <a href='vscode-notebook-cell://wsl%2Bubuntu/home/juno/work/playground/jax-rl/tmp.ipynb#ch0000021vscode-remote?line=0'>1</a>\u001b[0m \u001b[39mlen\u001b[39m(acc\u001b[39m.\u001b[39;49m_episodes[\u001b[39m1\u001b[39;49m,\u001b[39m2\u001b[39;49m])\n",
      "\u001b[0;31mTypeError\u001b[0m: sequence index must be integer, not 'tuple'"
     ]
    }
   ],
   "source": [
    "len(acc._episodes[1,2])"
   ]
  },
  {
   "cell_type": "markdown",
   "metadata": {},
   "source": [
    "# Random stuff"
   ]
  },
  {
   "cell_type": "code",
   "execution_count": 3,
   "metadata": {},
   "outputs": [],
   "source": [
    "from value_prediction import approximator\n",
    "from value_prediction import td"
   ]
  },
  {
   "cell_type": "code",
   "execution_count": 4,
   "metadata": {},
   "outputs": [
    {
     "name": "stdout",
     "output_type": "stream",
     "text": [
      "2\n",
      "[2.875 4.625]\n"
     ]
    }
   ],
   "source": [
    "print(td.td_zero_error(0, 1, 1, 1))\n",
    "# jitted_nstep_td_errors = jax.jit(td.nstep_td_errors, static_argnums=(0,))\n",
    "# print(jitted_nstep_td_errors(3, jnp.zeros(4), jnp.array([1, 2, 3, 4]), jnp.ones(4), .5))\n",
    "\n",
    "print(td.nstep_td_errors(3, jnp.zeros(4), jnp.array([1, 2, 3, 4]), jnp.ones(4), .5))"
   ]
  },
  {
   "cell_type": "code",
   "execution_count": 6,
   "metadata": {},
   "outputs": [
    {
     "name": "stdout",
     "output_type": "stream",
     "text": [
      "844 µs ± 15.4 µs per loop (mean ± std. dev. of 7 runs, 1,000 loops each)\n"
     ]
    }
   ],
   "source": [
    "%timeit td.nstep_td_errors(3, jnp.zeros(4), jnp.array([1, 2, 3, 4]), jnp.ones(4), .5)\n",
    "# %timeit jitted_nstep_td_errors(3, jnp.zeros(3), jnp.array([1,1,1]), jnp.zeros(3), 1)"
   ]
  },
  {
   "cell_type": "code",
   "execution_count": 4,
   "metadata": {},
   "outputs": [],
   "source": [
    "appr = approximator.tabularApproximator([jnp.arange(0,2), jnp.arange(-2,2)])"
   ]
  },
  {
   "cell_type": "code",
   "execution_count": 5,
   "metadata": {},
   "outputs": [
    {
     "name": "stdout",
     "output_type": "stream",
     "text": [
      "(2,)\n",
      "(2,)\n"
     ]
    },
    {
     "data": {
      "text/plain": [
       "DeviceArray(0., dtype=float32)"
      ]
     },
     "execution_count": 5,
     "metadata": {},
     "output_type": "execute_result"
    }
   ],
   "source": [
    "appr.v([0,0])"
   ]
  },
  {
   "cell_type": "code",
   "execution_count": 20,
   "metadata": {},
   "outputs": [
    {
     "data": {
      "text/plain": [
       "DeviceArray([[0, 1, 2],\n",
       "             [3, 4, 5]], dtype=int32)"
      ]
     },
     "execution_count": 20,
     "metadata": {},
     "output_type": "execute_result"
    }
   ],
   "source": [
    "x = jnp.array([[0,1,2],[3,4,5]])\n",
    "x"
   ]
  },
  {
   "cell_type": "code",
   "execution_count": 34,
   "metadata": {},
   "outputs": [
    {
     "data": {
      "text/plain": [
       "DeviceArray(1, dtype=int32)"
      ]
     },
     "execution_count": 34,
     "metadata": {},
     "output_type": "execute_result"
    }
   ],
   "source": [
    "x[tuple(x[0,:2])]"
   ]
  },
  {
   "cell_type": "markdown",
   "metadata": {},
   "source": []
  },
  {
   "cell_type": "code",
   "execution_count": 33,
   "metadata": {},
   "outputs": [
    {
     "data": {
      "text/plain": [
       "(DeviceArray(0, dtype=int32), DeviceArray(1, dtype=int32))"
      ]
     },
     "execution_count": 33,
     "metadata": {},
     "output_type": "execute_result"
    }
   ],
   "source": [
    "tuple(x[0,:2])"
   ]
  },
  {
   "cell_type": "code",
   "execution_count": null,
   "metadata": {},
   "outputs": [],
   "source": []
  }
 ],
 "metadata": {
  "interpreter": {
   "hash": "2c9c7a98df09ad5d09aed9c39f66cd404562c24fcd761bc8bc141afc0ba32c4d"
  },
  "kernelspec": {
   "display_name": "Python 3.8.10 ('venv': venv)",
   "language": "python",
   "name": "python3"
  },
  "language_info": {
   "codemirror_mode": {
    "name": "ipython",
    "version": 3
   },
   "file_extension": ".py",
   "mimetype": "text/x-python",
   "name": "python",
   "nbconvert_exporter": "python",
   "pygments_lexer": "ipython3",
   "version": "3.8.10"
  },
  "orig_nbformat": 4
 },
 "nbformat": 4,
 "nbformat_minor": 2
}
